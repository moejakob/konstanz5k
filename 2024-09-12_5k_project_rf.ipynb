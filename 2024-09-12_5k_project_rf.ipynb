{
 "cells": [
  {
   "cell_type": "markdown",
   "id": "dc6fe9de-8434-4900-b973-54b64bf67894",
   "metadata": {},
   "source": [
    "# Predicting Performance with Random Forest Regression\n",
    "I also want to try to predict performances and see what the most useful predictors are. We are going to use Random Forest Regression to achieve this."
   ]
  },
  {
   "cell_type": "code",
   "execution_count": 1,
   "id": "81cc0e0f-dc9a-49d6-987a-835e701409be",
   "metadata": {},
   "outputs": [],
   "source": [
    "import pandas as pd\n",
    "import numpy as np\n",
    "import matplotlib.pyplot as plt\n",
    "import sklearn\n",
    "import warnings\n",
    "\n",
    "from sklearn.preprocessing import LabelEncoder\n",
    "from sklearn.ensemble import RandomForestRegressor\n",
    "from sklearn.metrics import mean_squared_error, r2_score\n",
    "from scipy.stats import randint\n",
    "\n",
    "warnings.filterwarnings('ignore')"
   ]
  },
  {
   "cell_type": "code",
   "execution_count": 23,
   "id": "34c39f77-5dc6-4789-8f9b-b6ba884acbcd",
   "metadata": {},
   "outputs": [
    {
     "data": {
      "text/plain": [
       "no club runner    3335\n",
       "club runner        702\n",
       "Name: club_bi, dtype: int64"
      ]
     },
     "execution_count": 23,
     "metadata": {},
     "output_type": "execute_result"
    }
   ],
   "source": [
    "df = pd.read_csv('5k_full_results_clean.csv')\n",
    "\n",
    "# create a binary club variable\n",
    "df['club_bi'] = df['club'].apply(lambda x: 'no club runner' if x == 'no club' else 'club runner')\n",
    "\n",
    "df['club_bi'].value_counts()"
   ]
  },
  {
   "cell_type": "markdown",
   "id": "01392a6a-692c-4e45-ae5d-f174771feb5a",
   "metadata": {},
   "source": [
    "We don't need all the columns here and we also want to separate the data into the predictors and the target variable.\n",
    "\n",
    "There are four reasonable predictors in the dataset:\n",
    "* gender: our EDA showed that men are faster than women this should at least be a good pedictor for average speed (if not necessarily for age grading)\n",
    "* agegroup: again, in the EDA we saw that age plays a role in avg speed, but less so in the age grading\n",
    "* club: we saw that club runners are faster than non club runners\n",
    "* month: in the EDA we looked at performance by season. There were some differences, I include month here for a more fine grained analysis"
   ]
  },
  {
   "cell_type": "code",
   "execution_count": 24,
   "id": "a239bab8-1ebc-431e-86dd-c7abdb311085",
   "metadata": {},
   "outputs": [],
   "source": [
    "# predictors\n",
    "X1 = df[['agegroup', 'gender', 'club_bi', 'month']]\n",
    "\n",
    "# target variables\n",
    "y1 = df['avg_speed_kph']"
   ]
  },
  {
   "cell_type": "markdown",
   "id": "0354f856-7aef-48dc-b9d6-742da8cd9987",
   "metadata": {},
   "source": [
    "The regression model need numeric data so we transform it here."
   ]
  },
  {
   "cell_type": "code",
   "execution_count": 25,
   "id": "e28bdadd-0a19-4f59-8dce-9e478cbe2481",
   "metadata": {},
   "outputs": [],
   "source": [
    "# transform categorical data into numeric data\n",
    "label_encoder = LabelEncoder()\n",
    "x1_cat = X1.select_dtypes(include=['object']).apply(label_encoder.fit_transform)\n",
    "x1_num = X1.select_dtypes(exclude=['object']).values\n",
    "\n",
    "x1 = pd.concat([pd.DataFrame(x1_num), x1_cat], axis=1).values"
   ]
  },
  {
   "cell_type": "code",
   "execution_count": 75,
   "id": "474e6c0f-c83a-491e-83e9-245d73a49760",
   "metadata": {},
   "outputs": [
    {
     "data": {
      "text/plain": [
       "RandomForestRegressor(n_estimators=10, oob_score=True, random_state=0)"
      ]
     },
     "execution_count": 75,
     "metadata": {},
     "output_type": "execute_result"
    }
   ],
   "source": [
    "regressor_avg_speed = RandomForestRegressor(n_estimators=10, random_state=0, oob_score=True)\n",
    "\n",
    "# fit regressor for avg speed\n",
    "regressor_avg_speed.fit(x1, y1)"
   ]
  },
  {
   "cell_type": "markdown",
   "id": "e61a2a57-809c-47da-a62d-dfb8ac21d5d8",
   "metadata": {},
   "source": [
    "We are going to compute three metrics to eveluate the model performance:\n",
    "* Out-of-Bag (OOB) score: describes how well the model predicts unseen data. Ranging from 0 to 1, higher values indicate a better model. In some cases the OOB can also be negative.\n",
    "* Mean-Squared-Error (MSE): describes how far the predictions are from the true values. Raning from 0 to infinity, smaller values are better. However, this value is sensitive to the scale of the predicted variable.\n",
    "* R-Squared (R2) score: describes how much of the variance in the data can be explained by the model. Ranges from 0 to 1 but can also be negative. The higher the value the better the model fit."
   ]
  },
  {
   "cell_type": "code",
   "execution_count": 76,
   "id": "5420d77a-5d6d-4cf8-9b25-a6ca1858c299",
   "metadata": {},
   "outputs": [
    {
     "name": "stdout",
     "output_type": "stream",
     "text": [
      "Out-of-Bag Score: 0.19529141884590617\n",
      "Mean Squared Error: 3.4407791398919976\n",
      "R-squared: 0.5156618574142351\n"
     ]
    }
   ],
   "source": [
    "oob_score = regressor_avg_speed.oob_score_\n",
    "print(f'Out-of-Bag Score: {oob_score}')\n",
    "\n",
    "predictions = regressor_avg_speed.predict(x1)\n",
    "\n",
    "mse = mean_squared_error(y1, predictions)\n",
    "print(f'Mean Squared Error: {mse}')\n",
    "\n",
    "r2 = r2_score(y1, predictions)\n",
    "print(f'R-squared: {r2}')"
   ]
  },
  {
   "cell_type": "markdown",
   "id": "7ac4ac82-64e7-409b-abc7-3a8b05e5a168",
   "metadata": {},
   "source": [
    "### Model evaluation\n",
    "\n",
    "**OOB-Score**: The OOB-Score is on the lower side of the scale which indicates a potential overfit.\n",
    "\n",
    "**MSE**: The MSE-score doesn't seem too high, but given the scale for average speed in our data is probably ~4-16, it is also not a very good value.\n",
    "\n",
    "**R2**: The R2-score is right in the middle, indicating, that around half the variance in the data can be explained by the model. This is a decent but not very good value.\n",
    "\n",
    "### Feature immportance\n",
    "Let's now see how important the four predicting variables were for predicting the times:\n",
    "\n",
    "The most important variable to predict running speed is gender followed by club affiliation. This confirms the results of the exploratory data analysis."
   ]
  },
  {
   "cell_type": "code",
   "execution_count": 77,
   "id": "db5a2578-29ab-46fd-92fa-137c1617af9f",
   "metadata": {},
   "outputs": [
    {
     "data": {
      "image/png": "[encoded data removed]",
      "text/plain": [
       "<Figure size 640x480 with 1 Axes>"
      ]
     },
     "metadata": {},
     "output_type": "display_data"
    }
   ],
   "source": [
    "feature_importances = pd.Series(regressor_avg_speed.feature_importances_, index=X1.columns).sort_values(ascending=False)\n",
    "feature_importances.plot(kind='bar')\n",
    "plt.title('Feature importances for predicting average speed')\n",
    "plt.show()"
   ]
  },
  {
   "cell_type": "markdown",
   "id": "1c6ac82a-330a-41f8-bc03-792efd86cf9a",
   "metadata": {},
   "source": [
    "## Repeat everything for age grading\n",
    "Unlike for avg speed we have some NA values in the age graded column. It is not possible to impute these values because we don't have any information about the age and gender of these runners. Therefore we will remove them."
   ]
  },
  {
   "cell_type": "code",
   "execution_count": 29,
   "id": "4e416516-031a-4b82-87e5-7a01cd48f0a0",
   "metadata": {},
   "outputs": [
    {
     "data": {
      "text/plain": [
       "132"
      ]
     },
     "execution_count": 29,
     "metadata": {},
     "output_type": "execute_result"
    }
   ],
   "source": [
    "df['age_grade'].isna().sum()"
   ]
  },
  {
   "cell_type": "code",
   "execution_count": 30,
   "id": "b5d44a87-41ad-4b99-bbc5-a64e36ddb65a",
   "metadata": {},
   "outputs": [],
   "source": [
    "df_x = df.loc[~df['age_grade'].isna()].reset_index(drop=True)\n",
    "\n",
    "# predictors\n",
    "X2 = df_x[['agegroup', 'gender', 'club_bi', 'month']]\n",
    "\n",
    "# target variables\n",
    "y2 = df_x['age_grade']"
   ]
  },
  {
   "cell_type": "code",
   "execution_count": 31,
   "id": "b04b5652-771e-4dec-816b-24e9ddd7619a",
   "metadata": {},
   "outputs": [],
   "source": [
    "# transform categorical data into numeric data\n",
    "label_encoder = LabelEncoder()\n",
    "x2_cat = X2.select_dtypes(include=['object']).apply(label_encoder.fit_transform)\n",
    "x2_num = X2.select_dtypes(exclude=['object']).values\n",
    "\n",
    "x2 = pd.concat([pd.DataFrame(x2_num), x2_cat], axis=1).values"
   ]
  },
  {
   "cell_type": "code",
   "execution_count": 78,
   "id": "7a47555c-ba0f-45e7-9202-c352b8741ee4",
   "metadata": {},
   "outputs": [
    {
     "data": {
      "text/plain": [
       "RandomForestRegressor(n_estimators=10, oob_score=True, random_state=0)"
      ]
     },
     "execution_count": 78,
     "metadata": {},
     "output_type": "execute_result"
    }
   ],
   "source": [
    "regressor_agegrade = RandomForestRegressor(n_estimators=10, random_state=0, oob_score=True)\n",
    "\n",
    "regressor_agegrade.fit(x2, y2)"
   ]
  },
  {
   "cell_type": "code",
   "execution_count": 79,
   "id": "da5cf336-dac4-45c0-a508-c87129caff7a",
   "metadata": {},
   "outputs": [
    {
     "name": "stdout",
     "output_type": "stream",
     "text": [
      "Out-of-Bag score: -0.1805173777379936\n",
      "Mean Squared Error: 88.46949771003116\n",
      "R-Squared: 0.3246058923319859\n"
     ]
    }
   ],
   "source": [
    "oob = regressor_agegrade.oob_score_\n",
    "\n",
    "y2_preds = regressor_agegrade.predict(x2)\n",
    "\n",
    "mse = mean_squared_error(y2, y2_preds)\n",
    "\n",
    "r2 = r2_score(y2, y2_preds)\n",
    "\n",
    "print(f'Out-of-Bag score: {oob}\\nMean Squared Error: {mse}\\nR-Squared: {r2}')"
   ]
  },
  {
   "cell_type": "markdown",
   "id": "5b9cf022-eb3c-4c52-9c89-6b2fc6fc1683",
   "metadata": {},
   "source": [
    "### Model evaluation\n",
    "\n",
    "**OOB-Score:** In this case we have a negative OOB-Score, indicating a fairly poor model performance.\n",
    "**MSE:** The MSE is pretty high (we are ranging on a potential scale from 0-100) so an MSE of 88 is pretty bad.\n",
    "**R2:** While the R2 of 0.32 is not terribly bad, it is still on the worse side of the data.\n",
    "\n",
    "The reason the model performs worse is quite likely, that the age graded performance is meant to be a metric that makes running performance comparable agross age groups and gender, which makes it harder to predict.\n",
    "\n",
    "### Feature importance\n",
    "We can see that even though the age grading is meant to make running performance comparable across agegroup and gender, these two variables are still the most important in predicting performance. However, the generally bad performance of the model doesn't deliver very reliable results."
   ]
  },
  {
   "cell_type": "code",
   "execution_count": 80,
   "id": "082eb2a0-8c6f-419d-8eec-a4aae4ca8478",
   "metadata": {},
   "outputs": [
    {
     "data": {
      "image/png": "[encoded data removed]",
      "text/plain": [
       "<Figure size 640x480 with 1 Axes>"
      ]
     },
     "metadata": {},
     "output_type": "display_data"
    }
   ],
   "source": [
    "feature_importances_agegrade = pd.Series(regressor_agegrade.feature_importances_, index=X2.columns).sort_values(ascending=False)\n",
    "feature_importances_agegrade.plot(kind='bar')\n",
    "plt.title('Feature importances agegrading')\n",
    "plt.show()"
   ]
  }
 ],
 "metadata": {
  "kernelspec": {
   "display_name": "Python 3 (ipykernel)",
   "language": "python",
   "name": "python3"
  },
  "language_info": {
   "codemirror_mode": {
    "name": "ipython",
    "version": 3
   },
   "file_extension": ".py",
   "mimetype": "text/x-python",
   "name": "python",
   "nbconvert_exporter": "python",
   "pygments_lexer": "ipython3",
   "version": "3.9.13"
  }
 },
 "nbformat": 4,
 "nbformat_minor": 5
}
