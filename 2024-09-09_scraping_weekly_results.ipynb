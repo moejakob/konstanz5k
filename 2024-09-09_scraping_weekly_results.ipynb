{
 "cells": [
  {
   "cell_type": "markdown",
   "id": "41241e4d-5c0f-4df5-8f9c-ff8ea5a7ab30",
   "metadata": {},
   "source": [
    "# Scraping"
   ]
  }
 ],
 "metadata": {
  "kernelspec": {
   "display_name": "Python 3 (ipykernel)",
   "language": "python",
   "name": "python3"
  },
  "language_info": {
   "codemirror_mode": {
    "name": "ipython",
    "version": 3
   },
   "file_extension": ".py",
   "mimetype": "text/x-python",
   "name": "python",
   "nbconvert_exporter": "python",
   "pygments_lexer": "ipython3",
   "version": "3.9.13"
  }
 },
 "nbformat": 4,
 "nbformat_minor": 5
}
