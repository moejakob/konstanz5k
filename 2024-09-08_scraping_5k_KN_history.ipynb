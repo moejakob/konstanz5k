{
 "cells": [
  {
   "cell_type": "markdown",
   "id": "dc555875-2160-41a7-a139-3d50194b329e",
   "metadata": {},
   "source": [
    "# Scraping event history of a weekly 5k in KN\n",
    "This script scrapes the event history of a weekly 5k running event in Konstanz. The page this scrapes only includes information about the fastest male and female finishers but not about all other runners Since the organisation doesn't allow webscraping, the scraped data will be anonymised and the script will be adjusted such that no direct references to the 5k event can be read in it.\n",
    "\n",
    "The scraped data will be saved as an anonymised csv file."
   ]
  },
  {
   "cell_type": "code",
   "execution_count": 26,
   "id": "04dc418d-b4fc-468c-8c59-e5a2a2bffa9d",
   "metadata": {},
   "outputs": [],
   "source": [
    "# import relevant libraries\n",
    "import requests\n",
    "from bs4 import BeautifulSoup\n",
    "import re\n",
    "import pandas as pd\n",
    "import hashlib"
   ]
  },
  {
   "cell_type": "markdown",
   "id": "3261909f-0615-4cd5-9c97-53a34faf8b4e",
   "metadata": {},
   "source": [
    "First I use the requests library to scrape the html content of the website. It is important to add a User-Agent header to the method, otherwise the web content will be an error 403 error message."
   ]
  },
  {
   "cell_type": "code",
   "execution_count": 40,
   "id": "e90887d6-c113-43f2-b76f-806a94cc389c",
   "metadata": {
    "tags": []
   },
   "outputs": [],
   "source": [
    "URL = 'REDACTED'\n",
    "headers = {'User-Agent': 'REDACTED'}\n",
    "page = requests.get(URL, headers=headers)"
   ]
  },
  {
   "cell_type": "markdown",
   "id": "f672a8d0-b8ab-4024-964a-926f2510d851",
   "metadata": {},
   "source": [
    "I then use BeautifulSoup to parse the html content of the website."
   ]
  },
  {
   "cell_type": "code",
   "execution_count": 41,
   "id": "1942581a-bd2b-41de-ba9f-85fc5f72bb91",
   "metadata": {},
   "outputs": [],
   "source": [
    "soup = BeautifulSoup(page.content, 'html.parser')"
   ]
  },
  {
   "cell_type": "markdown",
   "id": "d1594c63-8228-402c-b984-2b11b2e130b3",
   "metadata": {},
   "source": [
    "From the developer tools mode of the Website, I know that the information I want is stored in a table of the class Results-table."
   ]
  },
  {
   "cell_type": "code",
   "execution_count": 42,
   "id": "84152725-72e3-4456-95a5-d3e77c6650b0",
   "metadata": {
    "tags": []
   },
   "outputs": [],
   "source": [
    "table = soup.find('table', {'class':'Results-table'})"
   ]
  },
  {
   "cell_type": "markdown",
   "id": "545a3269-2b29-4b29-88f9-2b9f54170fcb",
   "metadata": {},
   "source": [
    "Actually I can retrieve all the information I want from the table row tag of each row. So I first create a list of all the table rows."
   ]
  },
  {
   "cell_type": "code",
   "execution_count": 5,
   "id": "f2813078-54da-427c-9a92-5769e185976d",
   "metadata": {
    "tags": []
   },
   "outputs": [],
   "source": [
    "rows = table.find_all('tr', class_='Results-table-row')"
   ]
  },
  {
   "cell_type": "markdown",
   "id": "bbe1290e-cb9e-4c45-bd7b-984a711e0204",
   "metadata": {},
   "source": [
    "Once I have this list, I create lists for all the columns I want to have in my dataframe later and use regular expressions to extract the rough cut of the information. This includes a string that describes what kind of information it is."
   ]
  },
  {
   "cell_type": "code",
   "execution_count": 21,
   "id": "e485b40c-19c7-45af-89bd-cb1c3dd3ca87",
   "metadata": {},
   "outputs": [],
   "source": [
    "dates = []\n",
    "first_f = []\n",
    "time_f = []\n",
    "finishers = []\n",
    "first_m = []\n",
    "time_m = []\n",
    "event_num = []\n",
    "num_vols = []\n",
    "\n",
    "for r in rows:\n",
    "\n",
    "    if re.search(r'data-date=\"\\d{4}-\\d{2}-\\d{2}\"', str(r)) is not None:\n",
    "        dates.append(re.search(r'data-date=\"\\d{4}-\\d{2}-\\d{2}\"', str(r)).group(0))\n",
    "    else:\n",
    "        pass\n",
    "    \n",
    "    if re.search(r'data-female=\"[^0-9]+(?: [^0-9]+)+\\.?\" ', str(r)) is not None:\n",
    "        first_f.append(re.search(r'data-female=\"[^0-9]+(?: [^0-9]+)+\\.?\" ', str(r)).group(0))\n",
    "    else:\n",
    "        continue\n",
    "    \n",
    "    if re.search(r'data-femaletime=\"\\d+\"', str(r)) is not None:\n",
    "        time_f.append(re.search(r'data-femaletime=\"\\d+\"', str(r)).group(0))\n",
    "    else:\n",
    "        continue\n",
    "    \n",
    "    if re.search(r'data-finishers=\"\\d+\"', str(r)) is not None:\n",
    "        finishers.append(re.search(r'data-finishers=\"\\d+\"', str(r)).group(0))\n",
    "    else:\n",
    "        continue\n",
    "    \n",
    "    if re.search(r'data-male=\"[^0-9]+(?: [^0-9]+)+\\.?\" ', str(r)) is not None:\n",
    "        first_m.append(re.search(r'data-male=\"[^0-9]+(?: [^0-9]+)+\\.?\" ', str(r)).group(0))\n",
    "    else:\n",
    "        continue\n",
    "    \n",
    "    if re.search(r'data-maletime=\"\\d+\"', str(r)) is not None:\n",
    "        time_m.append(re.search(r'data-maletime=\"\\d+\"', str(r)).group(0))\n",
    "    else:\n",
    "        continue\n",
    "        \n",
    "    if re.search(r'data-parkrun=\"\\d+\"', str(r)) is not None:\n",
    "        event_num.append(re.search(r'data-parkrun=\"\\d+\"', str(r)).group(0))\n",
    "    else:\n",
    "        continue\n",
    "    \n",
    "    if re.search(r'data-volunteers=\"\\d+\"', str(r)) is not None:\n",
    "        num_vols.append(re.search(r'data-volunteers=\"\\d+\"', str(r)).group(0))\n",
    "    else:\n",
    "        continue\n"
   ]
  },
  {
   "cell_type": "markdown",
   "id": "9ea4c85c-ba62-4a3c-9e77-bd8813b06f51",
   "metadata": {},
   "source": [
    "I then clean the information so only the relevant bits remain."
   ]
  },
  {
   "cell_type": "code",
   "execution_count": 23,
   "id": "676efce1-ff66-4943-83c5-3c4667ad8867",
   "metadata": {},
   "outputs": [],
   "source": [
    "lists = [dates, first_f, time_f, finishers, first_m, time_m, event_num, num_vols]\n",
    "\n",
    "for l in lists:\n",
    "    for i, item in enumerate(l):\n",
    "        l[i] = re.search(r'[a-zA-Z\\-]=\"([^\"]+)\"', item).group(1)"
   ]
  },
  {
   "cell_type": "markdown",
   "id": "e4ad4f34-d10c-4b4a-8ec3-b1541af4023e",
   "metadata": {},
   "source": [
    "Finally, the times are written as dddd, so I add a semicolon to make them sensible. I assume here, that the fastest times are always in the format mm:ss. This is a fairly reasonable assumption as 5k times are never faster below ten minutes and rarely over 1h."
   ]
  },
  {
   "cell_type": "code",
   "execution_count": 24,
   "id": "5dde6242-8d4a-479a-b50b-efe5c0eae7e9",
   "metadata": {
    "tags": []
   },
   "outputs": [],
   "source": [
    "for l in [time_f, time_m]:\n",
    "    for i, item in enumerate(l):\n",
    "        l[i] = item[:2] + ':' + item[2:]"
   ]
  },
  {
   "cell_type": "markdown",
   "id": "1b623d75-1cd0-4b7c-87cd-d4cad062624c",
   "metadata": {},
   "source": [
    "In the last step, I create a pandas dataframe from the lists, anonymise the data and write it to a csv file."
   ]
  },
  {
   "cell_type": "code",
   "execution_count": 39,
   "id": "b9baf369-034a-4c07-ae7a-e417f0cb3fc8",
   "metadata": {},
   "outputs": [],
   "source": [
    "data_dict = {'date': dates, \n",
    "             'first_female': first_f,\n",
    "             'first_female_time': time_f,\n",
    "             'first_male': first_m,\n",
    "             'first_male_time': time_m,\n",
    "             'number_of_finishers': finishers,\n",
    "             'number_of_volunteers': num_vols,\n",
    "             'event_number': event_num}\n",
    "\n",
    "data = pd.DataFrame(data_dict)\n",
    "\n",
    "\n",
    "\n",
    "data['first_female'] = data['first_female'].apply(lambda x: hashlib.sha256(x.encode()).hexdigest())\n",
    "data['first_male'] = data['first_male'].apply(lambda x: hashlib.sha256(x.encode()).hexdigest())\n",
    "\n",
    "\n",
    "data.to_csv('5k_KN_history.csv', index=False)"
   ]
  }
 ],
 "metadata": {
  "kernelspec": {
   "display_name": "Python 3 (ipykernel)",
   "language": "python",
   "name": "python3"
  },
  "language_info": {
   "codemirror_mode": {
    "name": "ipython",
    "version": 3
   },
   "file_extension": ".py",
   "mimetype": "text/x-python",
   "name": "python",
   "nbconvert_exporter": "python",
   "pygments_lexer": "ipython3",
   "version": "3.9.13"
  }
 },
 "nbformat": 4,
 "nbformat_minor": 5
}
